{
 "cells": [
  {
   "cell_type": "code",
   "execution_count": 4,
   "metadata": {},
   "outputs": [
    {
     "name": "stdout",
     "output_type": "stream",
     "text": [
      "La lista tiene elementos repetidos.\n"
     ]
    }
   ],
   "source": [
    "def hayElementosRepetidos(lista):\n",
    "    return len(lista) != len(set(lista))\n",
    "\n",
    "miLista = [1, 2, 3, 4, 5, 1]  # Puedes cambiar esta lista según tus necesidades\n",
    "if hayElementosRepetidos (miLista):\n",
    "    print(\"La lista tiene elementos repetidos.\")\n",
    "else:\n",
    "    print(\"La lista no tiene elementos repetidos.\")\n"
   ]
  }
 ],
 "metadata": {
  "kernelspec": {
   "display_name": "Python 3",
   "language": "python",
   "name": "python3"
  },
  "language_info": {
   "codemirror_mode": {
    "name": "ipython",
    "version": 3
   },
   "file_extension": ".py",
   "mimetype": "text/x-python",
   "name": "python",
   "nbconvert_exporter": "python",
   "pygments_lexer": "ipython3",
   "version": "3.11.6"
  }
 },
 "nbformat": 4,
 "nbformat_minor": 2
}

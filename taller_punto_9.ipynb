{
 "cells": [
  {
   "cell_type": "code",
   "execution_count": 1,
   "metadata": {},
   "outputs": [
    {
     "name": "stdout",
     "output_type": "stream",
     "text": [
      "Promedio: 48.4\n",
      "Mediana: 45.0\n",
      "Promedio Multiplicativo: 42.47227620634596\n",
      "Números Ordenados Ascendente: [15.0, 42.0, 45.0, 65.0, 75.0]\n",
      "Números Ordenados Descendente: [75.0, 65.0, 45.0, 42.0, 15.0]\n",
      "Potencia del Mayor al Menor: 1.336346101015806e+28\n",
      "Raíz Cúbica del Menor Número: 2.46621207433047\n"
     ]
    }
   ],
   "source": [
    "import statistics\n",
    "\n",
    "# Función para calcular el promedio multiplicativo\n",
    "def promedio_multiplicativo(numeros):\n",
    "    multiplicacion = 1\n",
    "    for num in numeros:\n",
    "        multiplicacion *= num\n",
    "    return multiplicacion ** (1 / len(numeros))\n",
    "\n",
    "# Función principal\n",
    "def main():\n",
    "    numeros = []\n",
    "    for i in range(5):\n",
    "        numero = float(input(f\"Ingrese el número {i + 1}: \"))\n",
    "        numeros.append(numero)\n",
    "\n",
    "    # Calcular promedio\n",
    "    promedio = sum(numeros) / len(numeros)\n",
    "    print(f\"Promedio: {promedio}\")\n",
    "\n",
    "    # Calcular mediana\n",
    "    mediana = statistics.median(numeros)\n",
    "    print(f\"Mediana: {mediana}\")\n",
    "\n",
    "    # Calcular promedio multiplicativo\n",
    "    promedio_mult = promedio_multiplicativo(numeros)\n",
    "    print(f\"Promedio Multiplicativo: {promedio_mult}\")\n",
    "\n",
    "    # Ordenar de forma ascendente\n",
    "    ascendente = sorted(numeros)\n",
    "    print(f\"Números Ordenados Ascendente: {ascendente}\")\n",
    "\n",
    "    # Ordenar de forma descendente\n",
    "    descendente = sorted(numeros, reverse=True)\n",
    "    print(f\"Números Ordenados Descendente: {descendente}\")\n",
    "\n",
    "    # Calcular potencia del mayor al menor\n",
    "    potencia = descendente[0] ** ascendente[0]\n",
    "    print(f\"Potencia del Mayor al Menor: {potencia}\")\n",
    "\n",
    "    # Calcular raíz cúbica del menor número\n",
    "    raiz_cubica = ascendente[0] ** (1 / 3)\n",
    "    print(f\"Raíz Cúbica del Menor Número: {raiz_cubica}\")\n",
    "\n",
    "if __name__ == \"__main__\":\n",
    "    main()\n"
   ]
  }
 ],
 "metadata": {
  "kernelspec": {
   "display_name": "Python 3",
   "language": "python",
   "name": "python3"
  },
  "language_info": {
   "codemirror_mode": {
    "name": "ipython",
    "version": 3
   },
   "file_extension": ".py",
   "mimetype": "text/x-python",
   "name": "python",
   "nbconvert_exporter": "python",
   "pygments_lexer": "ipython3",
   "version": "3.11.6"
  }
 },
 "nbformat": 4,
 "nbformat_minor": 2
}
